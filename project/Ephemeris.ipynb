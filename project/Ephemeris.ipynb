{
 "cells": [
  {
   "cell_type": "code",
   "execution_count": 1,
   "id": "varied-teaching",
   "metadata": {},
   "outputs": [],
   "source": [
    "%matplotlib inline"
   ]
  },
  {
   "cell_type": "markdown",
   "id": "accepted-carrier",
   "metadata": {},
   "source": [
    "# COMPUTATION OF AN EPHEMERIS \n",
    "\n",
    "## Computation of an Ephemeris using Kepler's Laws of Planetary Motion\n"
   ]
  },
  {
   "cell_type": "markdown",
   "id": "tracked-indiana",
   "metadata": {},
   "source": [
    "## Introduction\n",
    "\n",
    "Computation of observation coordinates of a planet or other celestial body was a central task for astronomers for several millenia, and now it is also important for tracking asteroids and comets and other objects like artificial satelites, as well as used for Space navigation. The task is: if an orbit parameters of a body that moves in a Solar system are known, to be able to predict after period of time where would be that body, what would be its speed and distance from the Sun, and as well as where on the Sky would be observable that body after that period or at a certain date from the year. \n",
    "\n",
    "We all know the real revolution in computation of planetary motion started with the work of Jochannes Kepler, his 3 laws, and that gave new standard of precision at determining position of a planet or a comet. But how to apply those laws, to solve that task? Kepler gave us also the procedure how to make it, and he was able to calculate positions of the planets of the Solar system, publishing them at **Rudolphine Tables**, which were pretty accurate for the time allowing other astronomers to predict different events, several years later:\n",
    "\n",
    "    \"The tables were sufficiently accurate to predict a transit of Mercury observed by Pierre Gassendi in 1631 and a transit of Venus observed by Jeremiah Horrox in 1639.[14] Adam Schall von Bell, a Jesuit in China, used the tables to complete a reform of the Chinese calendar in 1635.\"\n",
    "    \n",
    "Kepler created these tables, pretty accurate for the time, without using a computer, so that triggered my curiocity expecting that, the method is computational effective.\n",
    "\n",
    "The aim of this project is to demonstrate how to use only 3 Kepler's law and Kepler's approach for eliptical orbits, to calculate for some period of time, tables containing for each day the planet position, and its velocity, and as well as the observation coordinates at the Earth's Sky - declination and right ascension.\n",
    "\n",
    "Nowadays we know this is just a very good aproximation, knowing that an orbit of a planet is perturbed by other planets, as well as Newtonian mechanic is also approximation, and more accurate General relativity describes gravity more accurate, but long time ago using Kepler's laws was sufficiently enough. The aim of this demonstration is to explore the method only.\n",
    "\n"
   ]
  },
  {
   "cell_type": "markdown",
   "id": "equivalent-academy",
   "metadata": {},
   "source": [
    "## Kepler's Laws\n",
    "\n",
    "In astronomy, Kepler's laws of planetary motion, published by Johannes Kepler between 1609 and 1619, describe the orbits of planets around the Sun. The laws modified the heliocentric theory of Nicolaus Copernicus, replacing its circular orbits and epicycles with elliptical trajectories, and explaining how planetary velocities vary. \n",
    "\n",
    "#### The three laws state that:\n",
    "\n",
    "1. The orbit of a planet is an ellipse with the Sun at one of the two foci.\n",
    "\n",
    "2. A line segment joining a planet and the Sun sweeps out equal areas during equal intervals of time.\n",
    "\n",
    "3. The square of a planet's orbital period is proportional to the cube of the length of the semi-major axis of its orbit.\n",
    "\n",
    "Later the laws were extended adding other conic sections for describing the motion of objects that are not trapped by Solar gravitation, and would visit our Solar system once and fly away, but here in this work the focus is only for objects that have closed orbits around the Sun - the orbit is an ellipse. "
   ]
  },
  {
   "cell_type": "markdown",
   "id": "statistical-guide",
   "metadata": {},
   "source": [
    "## Ellipse\n",
    "\n",
    "An ellipse is a figure that can be drawn by sticking two pins in a sheet of paper, tying a length of string to the pins, stretching the string taut with a pencil, and drawing the figure that results. During this process, the sum of the two distances from pencil to one pin and from pencil to the other pin remains constant and equal to the length of the string. This method of drawing an ellipse provides us with a formal definition\n",
    "\n",
    "#### Definition\n",
    "\n",
    "**An ellipse is the locus of a point that moves such that the sum of its distances from two fixed points called the foci is constant**\n",
    "\n",
    "The picture below shows an ellipse, and $F_1$, $F_2$ are the two foci, and for any point $P$ from the ellipse, it is fulfilled:\n",
    "\n",
    "$$\n",
    "{F_1}P + {F_2}P = C = 2a\n",
    "$$\n",
    "\n",
    "$2a$ is a constant, and it is more convenient to use $2a$ for that constant instead of one letter $C$.\n",
    "\n",
    "#### Elements of an ellipse\n",
    "\n",
    "The sum of these two distances $2a$ is the length of the string that is used to draw the ellipse.\n",
    "\n",
    "The ratio of the distance between the foci $\\left|{F_1}{F_2}\\right|$ to length of the string $2a$ is called the **eccentricity** $e$ of the ellipse:\n",
    "\n",
    "$$ e = \\frac{\\left|{F_1}{F_2}\\right|}{2a} $$\n",
    "\n",
    "The midpoint $O$ of the line segment joining the foci ${F_1}{F_2}$ is called the center of the ellipse. \n",
    "\n",
    "The limmited by the ellipse part of the line through the foci ${F_1}{F_2}$ is called the **major axis**, and limmited by the ellipse part of the line perpendicular to the major axis through the center is called the **minor axis**. \n",
    "\n",
    "It can be prooven that the major axis is the **longest line segment** that connects two points of the ellipse. And the **shortest line segment** that passes via the center and connects two points of the ellipse is the minor axis.\n",
    "\n",
    "It is easy to proof that the length of the major axis is $2a$ the same as the length of the string used to draw the ellipse. \n",
    "\n",
    "The length of the minor axis normally is denoted with $2b$.\n",
    "\n",
    "Also the center of the ellipse is a midpoint of both the major and minor axis.\n",
    "\n",
    "The major axis is shown as $AB$ and the minor axis is shown as $CD$\n"
   ]
  },
  {
   "cell_type": "code",
   "execution_count": 9,
   "id": "variable-party",
   "metadata": {},
   "outputs": [
    {
     "data": {
      "image/png": "[encoded data removed]",
      "text/plain": [
       "<Figure size 432x288 with 1 Axes>"
      ]
     },
     "metadata": {
      "needs_background": "light"
     },
     "output_type": "display_data"
    }
   ],
   "source": [
    "import numpy as np\n",
    "import matplotlib.pyplot as plt\n",
    "import math\n",
    "\n",
    "plt.axis(\"equal\")\n",
    "\n",
    "## draw an ellipse\n",
    "## the method is \"cheating\" using auxiliary cirle and eccentric anomaly.\n",
    "\n",
    "# eccentricity\n",
    "e = math.sqrt(2)/2\n",
    "# major semiaxis\n",
    "a = 100 \n",
    "# minor semiaxis\n",
    "b = a*math.sqrt(1-e*e)\n",
    "# eccentric anomaly, \n",
    "E = np.linspace(0, 2*math.pi, 1000)\n",
    "# plot ellipse\n",
    "x = a*np.cos(E)\n",
    "y = b*np.sin(E)\n",
    "plt.plot(x, y)\n",
    "\n",
    "# two foci\n",
    "xfl = -a*e;\n",
    "xfr = a*e;\n",
    "\n",
    "# ecc an for point p\n",
    "EP = math.pi/3\n",
    "xp = a*math.cos(EP)\n",
    "yp = b*math.sin(EP)\n",
    "plt.plot([xp], [yp], 'bo')\n",
    "plt.annotate(\"P\", xy=(xp, yp), xytext=(xp, yp+5))\n",
    "\n",
    "x1, y1 = [-a,a], [0,0]\n",
    "x2, y2 = [0, 0], [-b, b]\n",
    "plt.plot(x1, y1, x2, y2, marker = 'o', color='k')\n",
    "plt.annotate(\"A\", xy=(-a, 0), xytext=(-a-10, 0))\n",
    "plt.annotate(\"B\", xy=(-a, 0), xytext=(+a+6, 0))\n",
    "plt.annotate(\"C\", xy=(-a, b), xytext=(0, b+10))\n",
    "plt.annotate(\"D\", xy=(-a, -b), xytext=(0, -b-10))\n",
    "\n",
    "plt.plot([0], [0], marker = 'o', color='k')\n",
    "plt.annotate(\"O\", xy=(0, 0), xytext=(5, -10))\n",
    "\n",
    "#draw fsking lines\n",
    "x1, y1 = [xfl, xp], [0, yp]\n",
    "x2, y2 = [xfr, xp], [0, yp]\n",
    "plt.plot(x1, y1, x2, y2, marker = 'o', color='r')\n",
    "\n",
    "x1, y1 = [xfl, 0], [0, b]\n",
    "x2, y2 = [xfr, 0], [0, b]\n",
    "plt.plot(x1, y1, x2, y2, marker = 'o', color='b')\n",
    "\n",
    "#latus rectum\n",
    "l = a*(1-e*e)\n",
    "x1, y1 = [xfl, xfl], [-l, l]\n",
    "x2, y2 = [xfr, xfl], [0, l]\n",
    "plt.plot(x1, y1, x2, y2, marker = 'o', color='g')\n",
    "plt.annotate(\"L\", xy=(xfl, l), xytext=(xfl-2, l+7))\n",
    "\n",
    "plt.plot([xfl], [0], 'ko')\n",
    "plt.plot([xfr], [0], 'ko')\n",
    "plt.annotate(\"F1\", xy=(xfl, 0), xytext=(xfl+2, -10))\n",
    "plt.annotate(\"F2\", xy=(xfr, 0), xytext=(xfr+2, -10))\n",
    "\n",
    "plt.show()\n"
   ]
  },
  {
   "cell_type": "markdown",
   "id": "dynamic-seafood",
   "metadata": {},
   "source": [
    "The half of the major axis is called **semi major axis**, and it has a length $a$. So the length of the string used to draw the ellipse is twice the length of semi major axis.\n",
    "\n",
    "Semi major axis is one of the main orbital parameters, and the length of it is denoted with $a$.\n",
    "$$ OA = OB = a $$ $$AB = 2a$$\n",
    "\n",
    "Half of the minor axis is called **semi minor axis**, and the length of it is denoted with $b$.\n",
    "$$ OC = OD = b $$ $$CD = 2b$$\n",
    "\n",
    "The distance of the foci to the center is called the **focal distance** or **linear eccentricity** and it is denoted with $c$.\n",
    "$$ O{F_1} = O{F_2} = c $$ $${F_1}{F_2} = 2c$$\n",
    "\n",
    "Now we can see that the **eccentricity** is defined as:\n",
    "$$\n",
    "e = \\frac{c}{a}\n",
    "$$\n",
    "\n",
    "#### Major semi axis and eccentricity fully defines the ellipse\n",
    "\n",
    "Both major semi axis and the eccentricity are the two of all 6 parameters describing a planetary orbit.\n",
    "\n",
    "If we know the **major semi axis** $a$ and the **eccentricity** $e$ the ellipse is fully defined. and we can find any other length on the ellipse:\n",
    "\n",
    "**Linear eccentricity** \n",
    "$$ c = ae $$\n",
    "\n",
    "\n",
    "From the definition for the point $C$ that belongs to the ellipse, we have:\n",
    "\n",
    "$$\n",
    "{F_1}C + {F_2}C = 2a\n",
    "$$\n",
    "\n",
    "But because the triangles ${F_1}OC$ and ${F_2}OC$ are equal then ${F_1}C = {F_2}C$, so we conclude that:\n",
    "\n",
    "$$\n",
    "    {F_1}C = {F_2}C = a\n",
    "$$\n",
    "\n",
    "And from Pytagorean theorem we have that\n",
    "\n",
    "$$\n",
    "    b^2 = a^2 - c^2 = a^2 - (ea)^2 = a^2(1-e^2)\n",
    "$$\n",
    "\n",
    "**Semi minor axis $b$**\n",
    "$$\n",
    "    b = a\\sqrt{1-e^2}\n",
    "$$\n",
    "\n",
    "\n",
    "#### Perihelion and aphelion distances\n",
    "\n",
    "In the theory of planetary orbits, the Sun will be at one focus. Let us suppose it to be at $F_2$. In that case the distance $F_2B$ is the **perihelion distance** $q$, and is equal to\n",
    "$$\n",
    "    q = a(1-e)\n",
    "$$\n",
    "\n",
    "The distance ${F_2}A$ is the aphelion distance Q (pronounced ap-helion by some and affelion by others − and both have defensible positions), and it is equal to\n",
    "\n",
    "$$\n",
    "    Q = a(1+e)\n",
    "$$\n",
    "\n",
    "#### Semi latus rectum \n",
    "\n",
    "A line parallel to the minor axis and passing through a focus is called a **latus rectum** (plural: latera recta). Half of it called **semi latus rectum** The length of a **semi latus rectum** is commonly denoted by $l$ (sometimes by $p$). \n",
    "\n",
    "$$\n",
    "l = a(1 − e^2)\n",
    "$$\n",
    "\n",
    "Semi latus rectum length is obtained by applying Pythagorean theorem for the triangle ${F_1}{F_2}L$\n",
    "$$\n",
    "    l^2 = {L{F_1}}^2 = L{F_2}^2 - {F_1}{F_2}^2 = L{F_2}^2 -(2ae)^2\n",
    "$$\n",
    "and the definition of the ellipse for the point $L$\n",
    "$$\n",
    "    l + {F_2}L = {L{F_1}} + L{F_2} = 2a\n",
    "$$\n",
    "after replacing $L{F_2}$ in the equation we get \n",
    "$$\n",
    "    l^2 = (2a-l)^2 -(2ae)^2 = 4a^2 -4al + l^2 - 4(ae)^2\n",
    "$$\n",
    "and we get the result\n",
    "$$\n",
    "l = a(1 − e^2)\n",
    "$$\n",
    "\n",
    "The length of the semi latus rectum is an important quantity in orbit theory. It will be found, for example, that the energy of a planet is closely related to the semi major axis a of its orbit, while its angular momentum is closely related to the semi latus rectum."
   ]
  },
  {
   "cell_type": "markdown",
   "id": "helpful-turning",
   "metadata": {},
   "source": [
    "### Equation in Cartesian Coordinates\n"
   ]
  },
  {
   "cell_type": "code",
   "execution_count": null,
   "id": "through-atlas",
   "metadata": {},
   "outputs": [],
   "source": []
  },
  {
   "cell_type": "markdown",
   "id": "twelve-romance",
   "metadata": {},
   "source": [
    "## Auxiliary Circle of an Ellipse\n",
    "\n",
    "### Eccentric and True Anomaly\n",
    "\n",
    "//TODO\n"
   ]
  },
  {
   "cell_type": "markdown",
   "id": "willing-filename",
   "metadata": {},
   "source": [
    "## Polar Equation to the Ellipse\n",
    "\n",
    "//TODO\n",
    "\n",
    "### Argument of periapsis\n"
   ]
  },
  {
   "cell_type": "markdown",
   "id": "resident-digit",
   "metadata": {},
   "source": [
    "## Second Kepler's Law Application\n",
    "\n",
    "//TODO\n",
    "\n",
    "### Angular momentum preservation\n"
   ]
  },
  {
   "cell_type": "markdown",
   "id": "excessive-coating",
   "metadata": {},
   "source": [
    "## Calculation of Mean and True Anomaly\n",
    "\n",
    "//TODO\n",
    "\n"
   ]
  },
  {
   "cell_type": "markdown",
   "id": "cultural-executive",
   "metadata": {},
   "source": [
    "## Kepler's Equation\n",
    "\n",
    "$$\n",
    "M = E - e\\,sin{E}\n",
    "$$\n",
    "//TODO\n",
    "\n"
   ]
  },
  {
   "cell_type": "markdown",
   "id": "piano-pizza",
   "metadata": {},
   "source": [
    "## Polar and Descartes Coordinates, and Speed. \n",
    "\n",
    "//TODO\n",
    "\n"
   ]
  },
  {
   "cell_type": "markdown",
   "id": "formed-queen",
   "metadata": {},
   "source": [
    "## Computation of Ephemeris\n",
    "\n",
    "//TODO"
   ]
  },
  {
   "cell_type": "markdown",
   "id": "thirty-tragedy",
   "metadata": {},
   "source": [
    "### Test data\n",
    "\n",
    "https://en.wikipedia.org/wiki/46610_B%C3%A9sixdouze\n",
    "\n",
    "https://en.wikipedia.org/wiki/Halley%27s_Comet\n",
    "\n",
    "https://en.wikipedia.org/wiki/Mars\n",
    "\n",
    "https://en.wikipedia.org/wiki/Earth"
   ]
  },
  {
   "cell_type": "code",
   "execution_count": null,
   "id": "determined-wayne",
   "metadata": {},
   "outputs": [],
   "source": []
  },
  {
   "cell_type": "code",
   "execution_count": null,
   "id": "patient-switzerland",
   "metadata": {},
   "outputs": [],
   "source": []
  },
  {
   "cell_type": "code",
   "execution_count": null,
   "id": "grave-water",
   "metadata": {},
   "outputs": [],
   "source": []
  }
 ],
 "metadata": {
  "kernelspec": {
   "display_name": "Python 3",
   "language": "python",
   "name": "python3"
  },
  "language_info": {
   "codemirror_mode": {
    "name": "ipython",
    "version": 3
   },
   "file_extension": ".py",
   "mimetype": "text/x-python",
   "name": "python",
   "nbconvert_exporter": "python",
   "pygments_lexer": "ipython3",
   "version": "3.7.9"
  }
 },
 "nbformat": 4,
 "nbformat_minor": 5
}
